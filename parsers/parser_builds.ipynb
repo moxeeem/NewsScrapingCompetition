{
 "cells": [
  {
   "cell_type": "markdown",
   "metadata": {},
   "source": [
    "# Импорты"
   ]
  },
  {
   "cell_type": "code",
   "execution_count": 1,
   "metadata": {},
   "outputs": [],
   "source": [
    "from bs4 import BeautifulSoup\n",
    "import re\n",
    "import requests\n",
    "import pandas as pd\n",
    "import calendar\n",
    "from tqdm import tqdm\n",
    "from loguru import logger\n",
    "from fake_useragent import UserAgent\n",
    "from pandas import DataFrame\n",
    "import threading\n",
    "from datetime import datetime, timedelta"
   ]
  },
  {
   "cell_type": "code",
   "execution_count": 2,
   "metadata": {},
   "outputs": [],
   "source": [
    "LOGGING = 'logs.log'\n",
    "FORMAT = \"{time} {level} {message}\""
   ]
  },
  {
   "cell_type": "markdown",
   "metadata": {},
   "source": [
    "# Подбор тегов"
   ]
  },
  {
   "cell_type": "code",
   "execution_count": 8,
   "metadata": {},
   "outputs": [],
   "source": [
    "url = 'https://asninfo.ru/news/29-12-2023'\n",
    "response = requests.get(url, headers={'User-Agent': UserAgent().chrome})\n",
    "tree = BeautifulSoup(response.content, 'html.parser')"
   ]
  },
  {
   "cell_type": "code",
   "execution_count": 9,
   "metadata": {},
   "outputs": [],
   "source": [
    "news = tree.find_all('div', {'class': 'nl__news_block'})"
   ]
  },
  {
   "cell_type": "code",
   "execution_count": 10,
   "metadata": {},
   "outputs": [
    {
     "data": {
      "text/plain": [
       "[<div class=\"nl__news_block\">\n",
       " <a class=\"nl__news_block__img\" href=\"/news/111641-eksperty-soglasovali-dizayn-kody-gorodov-leningradskoy-oblasti\">\n",
       " <img alt=\"шаблон\" data-pagespeed-url-hash=\"1918860975\" height=\"123\" onload=\"pagespeed.CriticalImages.checkImageForCriticality(this);\" src=\"https://asninfo.ru/images/news/1d374071/8e211fe243b1ce66ee626301.jpg\" title=\"Эксперты согласовали дизайн-коды городов Ленинградской области\" width=\"185\"/>\n",
       " </a>\n",
       " <div class=\"nl__news_block__content\">\n",
       " <h2 class=\"nl__news_block__title\">\n",
       " <a href=\"/news/111641-eksperty-soglasovali-dizayn-kody-gorodov-leningradskoy-oblasti\">Эксперты согласовали дизайн-коды городов Ленинградской области</a>\n",
       " </h2>\n",
       " <div class=\"nl__news_block__data\">\n",
       " <span class=\"nl__news_block__date\">29.12.2023 — 18:00   </span>\n",
       " </div>\n",
       " <div class=\"nl__news_block__text news_block__text\">Консультативно-экспертный совет по рассмотрению архитектурно-градостроительного облика населенных пунктов, зданий, сооружений Ленинградской области на финальном заседании в 2023 году согласовал дизайн коды Бокситогорска, Всеволожска, Кириши, Кудрово, Никольское, Приозерска, Соснового Бора, Тихвина,...</div>\n",
       " </div>\n",
       " </div>,\n",
       " <div class=\"nl__news_block\">\n",
       " <a class=\"nl__news_block__img\" href=\"/news/111640-v-kvartale-6-dachnoye-kirovskogo-rayona-zavershilas-rekonstruktsiya-naruzhnogo-osveshcheniya\">\n",
       " <img alt=\"благоустройство\" data-pagespeed-url-hash=\"498601753\" height=\"123\" onload=\"pagespeed.CriticalImages.checkImageForCriticality(this);\" src=\"https://asninfo.ru/images/news/a4565231/ffe23ba7e3e02e2c67eb71d9.jpg\" title=\"В квартале 6 Дачное Кировского района завершилась реконструкция наружного освещения\" width=\"185\"/>\n",
       " </a>\n",
       " <div class=\"nl__news_block__content\">\n",
       " <h2 class=\"nl__news_block__title\">\n",
       " <a href=\"/news/111640-v-kvartale-6-dachnoye-kirovskogo-rayona-zavershilas-rekonstruktsiya-naruzhnogo-osveshcheniya\">В квартале 6 Дачное Кировского района завершилась реконструкция наружного освещения</a>\n",
       " </h2>\n",
       " <div class=\"nl__news_block__data\">\n",
       " <span class=\"nl__news_block__date\">29.12.2023 — 17:30   </span>\n",
       " </div>\n",
       " <div class=\"nl__news_block__text news_block__text\">На территории жилого массива в границах Счастливой улицы, проспекта Народного Ополчения, улицы Подводника Кузьмина, бульвара Новаторов специалисты \"Ленсвета\" установили 208 светодиодных светильников на 169 металлических опорах.\n",
       " </div>\n",
       " </div>\n",
       " </div>,\n",
       " <div class=\"nl__news_block\">\n",
       " <a class=\"nl__news_block__img\" href=\"/news/111639-v-problemnom-zhk-oranzh-zapustili-otopleniye\">\n",
       " <img alt=\"благоустройство\" data-pagespeed-url-hash=\"1624868537\" height=\"123\" onload=\"pagespeed.CriticalImages.checkImageForCriticality(this);\" src=\"https://asninfo.ru/images/news/4ea0728e/40b10fbc0232a5ba2df64aae.jpg\" title=\"В проблемном ЖК «Оранж» запустили отопление\" width=\"185\"/>\n",
       " </a>\n",
       " <div class=\"nl__news_block__content\">\n",
       " <h2 class=\"nl__news_block__title\">\n",
       " <a href=\"/news/111639-v-problemnom-zhk-oranzh-zapustili-otopleniye\">В проблемном ЖК «Оранж» запустили отопление</a>\n",
       " </h2>\n",
       " <div class=\"nl__news_block__data\">\n",
       " <span class=\"nl__news_block__date\">29.12.2023 — 17:00   </span>\n",
       " </div>\n",
       " <div class=\"nl__news_block__text news_block__text\">Завершение строительства ЖК «Оранж» продолжается за счет инвестиций, привлеченных строительным блоком Правительства Ленинградской области.\n",
       " </div>\n",
       " </div>\n",
       " </div>,\n",
       " <div class=\"nl__news_block\">\n",
       " <a class=\"nl__news_block__img\" href=\"/news/111638-na-stroyashcheysya-yuzhnoy-ulitse-v-peterburge-idut-raboty-po-ustroystvu-osnovaniya-proyezzhey-chast\">\n",
       " <img alt=\"благоустройство\" data-pagespeed-url-hash=\"4000841059\" height=\"123\" onload=\"pagespeed.CriticalImages.checkImageForCriticality(this);\" src=\"https://asninfo.ru/images/news/eb82af81/af877ee87293671e879d9327.png\" title=\"На строящейся Южной улице в Петербурге идут работы по устройству основания проезжей части\" width=\"185\"/>\n",
       " </a>\n",
       " <div class=\"nl__news_block__content\">\n",
       " <h2 class=\"nl__news_block__title\">\n",
       " <a href=\"/news/111638-na-stroyashcheysya-yuzhnoy-ulitse-v-peterburge-idut-raboty-po-ustroystvu-osnovaniya-proyezzhey-chast\">На строящейся Южной улице в Петербурге идут работы по устройству основания проезжей части</a>\n",
       " </h2>\n",
       " <div class=\"nl__news_block__data\">\n",
       " <span class=\"nl__news_block__date\">29.12.2023 — 16:30   </span>\n",
       " </div>\n",
       " <div class=\"nl__news_block__text news_block__text\">Магистраль свяжет Лахту с Шуваловским проспектом.\n",
       " </div>\n",
       " </div>\n",
       " </div>,\n",
       " <div class=\"nl__news_block\">\n",
       " <a class=\"nl__news_block__img\" href=\"/news/111637-studenty-praktikanty-sozdadut-kontseptsii-modernizatsii-muzeya-v-kirishi\">\n",
       " <img alt=\"совещание\" data-pagespeed-url-hash=\"513118282\" height=\"123\" onload=\"pagespeed.CriticalImages.checkImageForCriticality(this);\" src=\"https://asninfo.ru/images/news/0fff56a8/0c4400be70a7cc7b19f2ada2.jpg\" title=\"Студенты-практиканты создадут концепции модернизации музея в Кириши\" width=\"185\"/>\n",
       " </a>\n",
       " <div class=\"nl__news_block__content\">\n",
       " <h2 class=\"nl__news_block__title\">\n",
       " <a href=\"/news/111637-studenty-praktikanty-sozdadut-kontseptsii-modernizatsii-muzeya-v-kirishi\">Студенты-практиканты создадут концепции модернизации музея в Кириши</a>\n",
       " </h2>\n",
       " <div class=\"nl__news_block__data\">\n",
       " <span class=\"nl__news_block__date\">29.12.2023 — 16:00   </span>\n",
       " </div>\n",
       " <div class=\"nl__news_block__text news_block__text\">В ходе производственной практики магистранты СПбГАСУ – будущие архитекторы и градостроители совместно с заместителем руководителя ГКУ «Градостроительное развитие территорий Ленинградской области» Ольгой Нецветаевой посетили Киришский историко-краеведческий музей в г. Кириши.\n",
       " </div>\n",
       " </div>\n",
       " </div>,\n",
       " <div class=\"nl__news_block\">\n",
       " <a class=\"nl__news_block__img\" href=\"/news/111636-detskiy-sad-s-basseynom-sdali-v-tsentralnoy-chasti-kolpino\">\n",
       " <img alt=\"благоустройство\" data-pagespeed-url-hash=\"3694345176\" height=\"123\" onload=\"pagespeed.CriticalImages.checkImageForCriticality(this);\" src=\"https://asninfo.ru/images/news/188b986a/af4e87cb24829106ed24e4f7.jpg\" title=\"Детский сад с бассейном сдали в центральной части Колпино \" width=\"185\"/>\n",
       " </a>\n",
       " <div class=\"nl__news_block__content\">\n",
       " <h2 class=\"nl__news_block__title\">\n",
       " <a href=\"/news/111636-detskiy-sad-s-basseynom-sdali-v-tsentralnoy-chasti-kolpino\">Детский сад с бассейном сдали в центральной части Колпино </a>\n",
       " </h2>\n",
       " <div class=\"nl__news_block__data\">\n",
       " <span class=\"nl__news_block__date\">29.12.2023 — 15:30   </span>\n",
       " </div>\n",
       " <div class=\"nl__news_block__text news_block__text\">Завершена реконструкция дошкольного образовательного учреждения (ДОУ) на 190 мест в Колпино.\n",
       " </div>\n",
       " </div>\n",
       " </div>,\n",
       " <div class=\"nl__news_block\">\n",
       " <a class=\"nl__news_block__img\" href=\"/news/111635-v-moskve-zavershena-rekonstruktsiya-lechebnogo-korpusa-no-4-bolnitsy-no-52\">\n",
       " <img alt=\"совещание\" data-pagespeed-url-hash=\"1756431620\" height=\"123\" onload=\"pagespeed.CriticalImages.checkImageForCriticality(this);\" src=\"https://asninfo.ru/images/news/213f6af0/7a67c4ac0d0b4cc608908743.jpg\" title=\"В Москве завершена реконструкция лечебного корпуса № 4 больницы № 52\" width=\"185\"/>\n",
       " </a>\n",
       " <div class=\"nl__news_block__content\">\n",
       " <h2 class=\"nl__news_block__title\">\n",
       " <a href=\"/news/111635-v-moskve-zavershena-rekonstruktsiya-lechebnogo-korpusa-no-4-bolnitsy-no-52\">В Москве завершена реконструкция лечебного корпуса № 4 больницы № 52</a>\n",
       " </h2>\n",
       " <div class=\"nl__news_block__data\">\n",
       " <span class=\"nl__news_block__date\">29.12.2023 — 15:00   </span>\n",
       " </div>\n",
       " <div class=\"nl__news_block__text news_block__text\">В составе городской клинической больницы (ГКБ) № 52 построят многопрофильный комплекс с родильным домом.\n",
       " </div>\n",
       " </div>\n",
       " </div>,\n",
       " <div class=\"nl__news_block\">\n",
       " <a class=\"nl__news_block__img\" href=\"/news/111634-novoye-blagoustroyennoye-obshchestvennoye-prostranstvo-otkryli-v-gatchinskom-rayone\">\n",
       " <img alt=\"благоустройство\" data-pagespeed-url-hash=\"2629996817\" height=\"123\" onload=\"pagespeed.CriticalImages.checkImageForCriticality(this);\" src=\"https://asninfo.ru/images/news/bbfc6494/66d94f5b6fa8030a6ea680f6.jpg\" title=\"Новое благоустроенное общественное пространство открыли в Гатчинском районе\" width=\"185\"/>\n",
       " </a>\n",
       " <div class=\"nl__news_block__content\">\n",
       " <h2 class=\"nl__news_block__title\">\n",
       " <a href=\"/news/111634-novoye-blagoustroyennoye-obshchestvennoye-prostranstvo-otkryli-v-gatchinskom-rayone\">Новое благоустроенное общественное пространство открыли в Гатчинском районе</a>\n",
       " </h2>\n",
       " <div class=\"nl__news_block__data\">\n",
       " <span class=\"nl__news_block__date\">29.12.2023 — 14:30   </span>\n",
       " </div>\n",
       " <div class=\"nl__news_block__text news_block__text\">Сквер Ритингов получил свое название в честь основателей Дружногорского стекольного завода.\n",
       " </div>\n",
       " </div>\n",
       " </div>,\n",
       " <div class=\"nl__news_block\">\n",
       " <a class=\"nl__news_block__img\" href=\"/news/111633-yug-peterburga-stal-novym-tsentrom-massovoy-zastroyki\">\n",
       " <img alt=\"стройка\" data-pagespeed-url-hash=\"2449836088\" height=\"123\" onload=\"pagespeed.CriticalImages.checkImageForCriticality(this);\" src=\"https://asninfo.ru/images/news/eac360b9/16cf5e6be1a0a96d5d6efc0a.jpg\" title=\"Юг Петербурга стал новым центром массовой застройки\" width=\"185\"/>\n",
       " </a>\n",
       " <div class=\"nl__news_block__content\">\n",
       " <h2 class=\"nl__news_block__title\">\n",
       " <a href=\"/news/111633-yug-peterburga-stal-novym-tsentrom-massovoy-zastroyki\">Юг Петербурга стал новым центром массовой застройки</a>\n",
       " </h2>\n",
       " <div class=\"nl__news_block__data\">\n",
       " <span class=\"nl__news_block__date\">29.12.2023 — 14:00   </span>\n",
       " </div>\n",
       " <div class=\"nl__news_block__text news_block__text\">Южная часть Петербурга постепенно становится главным направлением развития города.\n",
       " </div>\n",
       " </div>\n",
       " </div>,\n",
       " <div class=\"nl__news_block\">\n",
       " <a class=\"nl__news_block__img\" href=\"/news/111632-sportkompleks-nika-v-tekstilshchikakh-vveden-v-ekspluatatsiyu\">\n",
       " <img alt=\"благоустройство\" data-pagespeed-url-hash=\"3396773328\" height=\"123\" onload=\"pagespeed.CriticalImages.checkImageForCriticality(this);\" src=\"https://asninfo.ru/images/news/ea938f6b/d6cffdff1e6734d489abf0e8.jpg\" title=\"Спорткомплекс «Ника» в Текстильщиках введен в эксплуатацию\" width=\"185\"/>\n",
       " </a>\n",
       " <div class=\"nl__news_block__content\">\n",
       " <h2 class=\"nl__news_block__title\">\n",
       " <a href=\"/news/111632-sportkompleks-nika-v-tekstilshchikakh-vveden-v-ekspluatatsiyu\">Спорткомплекс «Ника» в Текстильщиках введен в эксплуатацию</a>\n",
       " </h2>\n",
       " <div class=\"nl__news_block__data\">\n",
       " <span class=\"nl__news_block__date\">29.12.2023 — 13:30   </span>\n",
       " </div>\n",
       " <div class=\"nl__news_block__text news_block__text\">\n",
       " На юго-востоке Москвы в районе Текстильщики введен в эксплуатацию спортивный комплекс «Ника».\n",
       " </div>\n",
       " </div>\n",
       " </div>]"
      ]
     },
     "execution_count": 10,
     "metadata": {},
     "output_type": "execute_result"
    }
   ],
   "source": [
    "news"
   ]
  },
  {
   "cell_type": "code",
   "execution_count": 12,
   "metadata": {},
   "outputs": [
    {
     "name": "stdout",
     "output_type": "stream",
     "text": [
      "/news/111641-eksperty-soglasovali-dizayn-kody-gorodov-leningradskoy-oblasti\n",
      "\n",
      "Эксперты согласовали дизайн-коды городов Ленинградской области\n",
      "\n",
      "/news/111640-v-kvartale-6-dachnoye-kirovskogo-rayona-zavershilas-rekonstruktsiya-naruzhnogo-osveshcheniya\n",
      "\n",
      "В квартале 6 Дачное Кировского района завершилась реконструкция наружного освещения\n",
      "\n",
      "/news/111639-v-problemnom-zhk-oranzh-zapustili-otopleniye\n",
      "\n",
      "В проблемном ЖК «Оранж» запустили отопление\n",
      "\n",
      "/news/111638-na-stroyashcheysya-yuzhnoy-ulitse-v-peterburge-idut-raboty-po-ustroystvu-osnovaniya-proyezzhey-chast\n",
      "\n",
      "На строящейся Южной улице в Петербурге идут работы по устройству основания проезжей части\n",
      "\n",
      "/news/111637-studenty-praktikanty-sozdadut-kontseptsii-modernizatsii-muzeya-v-kirishi\n",
      "\n",
      "Студенты-практиканты создадут концепции модернизации музея в Кириши\n",
      "\n",
      "/news/111636-detskiy-sad-s-basseynom-sdali-v-tsentralnoy-chasti-kolpino\n",
      "\n",
      "Детский сад с бассейном сдали в центральной части Колпино \n",
      "\n",
      "/news/111635-v-moskve-zavershena-rekonstruktsiya-lechebnogo-korpusa-no-4-bolnitsy-no-52\n",
      "\n",
      "В Москве завершена реконструкция лечебного корпуса № 4 больницы № 52\n",
      "\n",
      "/news/111634-novoye-blagoustroyennoye-obshchestvennoye-prostranstvo-otkryli-v-gatchinskom-rayone\n",
      "\n",
      "Новое благоустроенное общественное пространство открыли в Гатчинском районе\n",
      "\n",
      "/news/111633-yug-peterburga-stal-novym-tsentrom-massovoy-zastroyki\n",
      "\n",
      "Юг Петербурга стал новым центром массовой застройки\n",
      "\n",
      "/news/111632-sportkompleks-nika-v-tekstilshchikakh-vveden-v-ekspluatatsiyu\n",
      "\n",
      "Спорткомплекс «Ника» в Текстильщиках введен в эксплуатацию\n",
      "\n"
     ]
    }
   ],
   "source": [
    "for new in news:\n",
    "    print(new.find('a')['href'])\n",
    "    print(new.find('h2').text)"
   ]
  },
  {
   "cell_type": "code",
   "execution_count": 13,
   "metadata": {},
   "outputs": [],
   "source": [
    "# Going inside each news item we found\n",
    "response_inner = requests.get('https://asninfo.ru/news/111622-na-itogovom-gradostroitelnom-sovete-leningradskoy-oblasti-rassmotreli-proyekt-planirovki-territorii-', headers={'User-Agent': UserAgent().firefox})\n",
    "tree_inner = BeautifulSoup(response_inner.content, 'html.parser')"
   ]
  },
  {
   "cell_type": "code",
   "execution_count": 14,
   "metadata": {},
   "outputs": [
    {
     "data": {
      "text/plain": [
       "'\\n\\n\\n\\nсовещание\\n\\nНа итоговом Градостроительном совете Ленинградской области рассмотрели проект планировки территории в Янино-1 \\nИсточник: online47.ru\\n\\nНа Градостроительном совете Ленинградской области обсудили проект планировки территории и проекта межевания территории в городском поселке Янино-1 Заневского городского поселения Всеволожского района Ленобласти.\\n\\nКак известно, проект планировки разработан бюро «Фокс Констракшн». Территория расположена в северной части городского поселка Янино-1.\\nТак, предусмотрено строительство 345 тысяч квадратных метров жилья для 10 тысяч человек. Строительство планируется в четыре этапа. Предусмотрено строительство трех детских садов на 630 мест и школы на 950 мест. Выдано разрешение на строительство одного из детских садиков, а также площадок для игр детей дошкольного и младшего школьного возраста.\\n«В рамках реализации этого проекта компанией будет построен один многоквартирный дом, состоящий из нескольких корпусов, Кроме как строительство этого дома и, соответственно, обеспечение его транспортной инфраструктурой со стороны соседнего квартала, \\xa0получено разрешение на строительство на пяти земельных участках - четыре многоквартирных жилых дома и один земельный участок для дошкольной образовательной организации на 240мест», - отметил представитель компании «Фокс Констракшн» Александр Типченко.\\nПо его словам, была полностью пересмотрена структура улично-дорожной сети городского поселения. В комплексе планируется место для размещения охраны, культурного комплекса, стадиона, который будет обслуживать весь этот населённый пункт, а также здание администрации, так как, по факту, Янино-1 является административным центром Заневского городского поселения.\\nПо итогу доклада, данный проект отправили на доработку с рекомендациями.\\n«Убрать автобус, проверить нормативку, доиграть тему с «зеленой зоной» в примыкании с архитектурой, исходя из планов по развитию с включением парка или торгового комплекса», - высказал замечания зампред правительства Ленинградской области по строительству и жилищно-коммунальному хозяйству Евгений Барановский. '"
      ]
     },
     "execution_count": 14,
     "metadata": {},
     "output_type": "execute_result"
    }
   ],
   "source": [
    "text = tree_inner.find('div', {'class': 'news_article'})\n",
    "text.text"
   ]
  },
  {
   "cell_type": "markdown",
   "metadata": {},
   "source": [
    "# Парсинг"
   ]
  },
  {
   "cell_type": "code",
   "execution_count": 15,
   "metadata": {},
   "outputs": [],
   "source": [
    "def get_page(data) -> DataFrame:\n",
    "    \"\"\"A function to retrieve data from a web page.\"\"\"\n",
    "\n",
    "    logger.add(LOGGING)\n",
    "    logger.add(LOGGING, format=FORMAT)\n",
    "\n",
    "    url = f'https://asninfo.ru/news/{data}'\n",
    "    response = requests.get(url, headers={'User-Agent': UserAgent().chrome})\n",
    "    tree = BeautifulSoup(response.content, 'html.parser')\n",
    "\n",
    "    news = tree.find_all('div', {'class': 'nl__news_block'})\n",
    "\n",
    "    info = []\n",
    "\n",
    "    for post in news:\n",
    "        event = threading.Event()\n",
    "        \n",
    "        try:\n",
    "            topic = \"Строительство\"\n",
    "        except Exception as e:\n",
    "            logger.warning(\n",
    "                f\"Failed to get the news topic. Publication date: {data}. \"\n",
    "                f\"Exception: {e}\")\n",
    "            pass\n",
    "\n",
    "        try:\n",
    "            link = post.find('a')['href']\n",
    "            link = 'https://asninfo.ru' + link\n",
    "        except Exception as e:\n",
    "            logger.warning(\n",
    "                f\"Failed to get the news link. Publication date: {data}. \"\n",
    "                f\"Exception: {e}\")\n",
    "            pass\n",
    "\n",
    "        response_inner = requests.get(link, headers={'User-Agent': UserAgent().firefox})\n",
    "        tree_inner = BeautifulSoup(response_inner.content, 'html.parser')\n",
    "\n",
    "        if \"https://asninfo.ru/\" in link:\n",
    "            try:\n",
    "                content = tree_inner.find('div', {'class': 'news_article'}).text\n",
    "            except Exception as e:\n",
    "                logger.warning(\n",
    "                    f\"Failed to get the content.\"\n",
    "                    f\"Publication date: {data}. Exception: {e}\")\n",
    "                pass\n",
    "\n",
    "        row = {\n",
    "            'topic': topic,\n",
    "            'url': link,\n",
    "            'content': content\n",
    "        }\n",
    "\n",
    "        if row['topic'] != 'topic' and \\\n",
    "            row['url'] != 'url' and \\\n",
    "            row['content'] != 'content':\n",
    "            info.append(row)\n",
    "\n",
    "\n",
    "    info = pd.DataFrame(info)\n",
    "    return info"
   ]
  },
  {
   "cell_type": "code",
   "execution_count": null,
   "metadata": {},
   "outputs": [],
   "source": [
    "infa = get_page('2024/01/02', 1)\n"
   ]
  },
  {
   "cell_type": "code",
   "execution_count": null,
   "metadata": {},
   "outputs": [],
   "source": [
    "infa"
   ]
  },
  {
   "cell_type": "code",
   "execution_count": null,
   "metadata": {},
   "outputs": [],
   "source": [
    "infa = pd.DataFrame()\n",
    "lenght = 0\n",
    "\n",
    "start_date = datetime(2023, 12, 29)\n",
    "end_date = datetime(2020, 1, 1)\n",
    "\n",
    "progress_bar = tqdm(total=(start_date - end_date).days + 1)\n",
    "\n",
    "for current_date in pd.date_range(start_date, end_date, freq='-1D'):\n",
    "    data = current_date.strftime('%d-%m-%Y')\n",
    "    \n",
    "    try:\n",
    "        page_data = get_page(data, )\n",
    "        infa = pd.concat([infa, page_data], ignore_index=True)\n",
    "        lenght += len(infa)\n",
    "        infa.to_csv('builds.csv', index=False, mode='a', header=False)\n",
    "        infa = pd.DataFrame()\n",
    "        \n",
    "    except Exception as e:\n",
    "        logger.error(f\"Failed to get data for: {data}. Exception: {e}.\")\n",
    "        pass\n",
    "\n",
    "    progress_bar.update(1)\n",
    "\n",
    "progress_bar.close()"
   ]
  },
  {
   "cell_type": "markdown",
   "metadata": {},
   "source": [
    "# Исправление"
   ]
  },
  {
   "cell_type": "code",
   "execution_count": null,
   "metadata": {},
   "outputs": [],
   "source": [
    "df = pd.read_csv('lenta_news.csv')"
   ]
  },
  {
   "cell_type": "code",
   "execution_count": null,
   "metadata": {},
   "outputs": [],
   "source": [
    "df.shape"
   ]
  },
  {
   "cell_type": "code",
   "execution_count": null,
   "metadata": {},
   "outputs": [],
   "source": [
    "df.head()"
   ]
  },
  {
   "cell_type": "code",
   "execution_count": null,
   "metadata": {},
   "outputs": [],
   "source": [
    "df = df.drop(df[df['topic'] == 'topic'].index)"
   ]
  },
  {
   "cell_type": "code",
   "execution_count": null,
   "metadata": {},
   "outputs": [],
   "source": [
    "df.shape"
   ]
  },
  {
   "cell_type": "code",
   "execution_count": null,
   "metadata": {},
   "outputs": [],
   "source": [
    "df.head()"
   ]
  },
  {
   "cell_type": "code",
   "execution_count": null,
   "metadata": {},
   "outputs": [],
   "source": [
    "df.tail(20)"
   ]
  },
  {
   "cell_type": "code",
   "execution_count": null,
   "metadata": {},
   "outputs": [],
   "source": [
    "df = df.drop_duplicates()\n",
    "df = df.dropna()"
   ]
  },
  {
   "cell_type": "code",
   "execution_count": null,
   "metadata": {},
   "outputs": [],
   "source": [
    "df.shape"
   ]
  },
  {
   "cell_type": "code",
   "execution_count": null,
   "metadata": {},
   "outputs": [],
   "source": [
    "df.to_csv('clean_data.csv', index=False)"
   ]
  },
  {
   "cell_type": "markdown",
   "metadata": {},
   "source": []
  }
 ],
 "metadata": {
  "kernelspec": {
   "display_name": "Python 3",
   "language": "python",
   "name": "python3"
  },
  "language_info": {
   "codemirror_mode": {
    "name": "ipython",
    "version": 3
   },
   "file_extension": ".py",
   "mimetype": "text/x-python",
   "name": "python",
   "nbconvert_exporter": "python",
   "pygments_lexer": "ipython3",
   "version": "3.10.8"
  }
 },
 "nbformat": 4,
 "nbformat_minor": 2
}
