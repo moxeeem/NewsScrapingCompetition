{
 "cells": [
  {
   "cell_type": "markdown",
   "metadata": {},
   "source": [
    "# Соревнование по классификации новостей"
   ]
  },
  {
   "cell_type": "markdown",
   "metadata": {},
   "source": [
    "## Импорты, константы"
   ]
  },
  {
   "cell_type": "code",
   "execution_count": 44,
   "metadata": {},
   "outputs": [],
   "source": [
    "import pandas as pd\n",
    "from sklearn.model_selection import train_test_split\n",
    "from sklearn.feature_extraction.text import CountVectorizer\n",
    "from sklearn.preprocessing import MaxAbsScaler\n",
    "from sklearn.linear_model import LogisticRegression\n",
    "from sklearn.metrics import classification_report\n",
    "import numpy as np\n",
    "from sklearn.feature_extraction.text import TfidfVectorizer"
   ]
  },
  {
   "cell_type": "code",
   "execution_count": 45,
   "metadata": {},
   "outputs": [],
   "source": [
    "RANDOM_STATE = 42"
   ]
  },
  {
   "cell_type": "markdown",
   "metadata": {},
   "source": [
    "## Подготовка данных"
   ]
  },
  {
   "cell_type": "markdown",
   "metadata": {},
   "source": [
    "Считаем три датасета с новостями из lenta.ru"
   ]
  },
  {
   "cell_type": "code",
   "execution_count": 3,
   "metadata": {},
   "outputs": [],
   "source": [
    "lenta1 = pd.read_csv('lenta_news.csv')\n",
    "lenta2 = pd.read_csv('lenta_news_1.csv')\n",
    "lenta3 = pd.read_csv('lenta_news_2.csv')"
   ]
  },
  {
   "cell_type": "code",
   "execution_count": 22,
   "metadata": {},
   "outputs": [],
   "source": [
    "lenta1.columns = ['topic', 'url', 'text']\n",
    "lenta2.columns = ['topic', 'url', 'text']\n",
    "lenta3.columns = ['topic', 'url', 'text']"
   ]
  },
  {
   "cell_type": "code",
   "execution_count": 25,
   "metadata": {},
   "outputs": [],
   "source": [
    "lenta = pd.concat([lenta1, lenta2, lenta3])"
   ]
  },
  {
   "cell_type": "code",
   "execution_count": 26,
   "metadata": {},
   "outputs": [
    {
     "data": {
      "text/html": [
       "<div>\n",
       "<style scoped>\n",
       "    .dataframe tbody tr th:only-of-type {\n",
       "        vertical-align: middle;\n",
       "    }\n",
       "\n",
       "    .dataframe tbody tr th {\n",
       "        vertical-align: top;\n",
       "    }\n",
       "\n",
       "    .dataframe thead th {\n",
       "        text-align: right;\n",
       "    }\n",
       "</style>\n",
       "<table border=\"1\" class=\"dataframe\">\n",
       "  <thead>\n",
       "    <tr style=\"text-align: right;\">\n",
       "      <th></th>\n",
       "      <th>topic</th>\n",
       "      <th>url</th>\n",
       "      <th>text</th>\n",
       "    </tr>\n",
       "  </thead>\n",
       "  <tbody>\n",
       "    <tr>\n",
       "      <th>0</th>\n",
       "      <td>Мир</td>\n",
       "      <td>https://lenta.ru/news/2024/01/02/early/</td>\n",
       "      <td>Президент Венесуэлы Николас Мадуро заявил, что...</td>\n",
       "    </tr>\n",
       "    <tr>\n",
       "      <th>1</th>\n",
       "      <td>Бывший СССР</td>\n",
       "      <td>https://lenta.ru/news/2024/01/02/zelen_/</td>\n",
       "      <td>Президент Украины Владимир Зеленский в интервь...</td>\n",
       "    </tr>\n",
       "    <tr>\n",
       "      <th>2</th>\n",
       "      <td>Интернет и СМИ</td>\n",
       "      <td>https://lenta.ru/news/2024/01/02/zapretnoe-slo...</td>\n",
       "      <td>Президент Украины Владимир Зеленский пришел в ...</td>\n",
       "    </tr>\n",
       "    <tr>\n",
       "      <th>3</th>\n",
       "      <td>Бывший СССР</td>\n",
       "      <td>https://lenta.ru/news/2024/01/02/instead/</td>\n",
       "      <td>Президент Украины Владимир Зеленский заявил, ч...</td>\n",
       "    </tr>\n",
       "    <tr>\n",
       "      <th>4</th>\n",
       "      <td>Бывший СССР</td>\n",
       "      <td>https://lenta.ru/news/2024/01/02/zelenn/</td>\n",
       "      <td>Президент Украины Владимир Зеленский заявил, ч...</td>\n",
       "    </tr>\n",
       "    <tr>\n",
       "      <th>...</th>\n",
       "      <td>...</td>\n",
       "      <td>...</td>\n",
       "      <td>...</td>\n",
       "    </tr>\n",
       "    <tr>\n",
       "      <th>97536</th>\n",
       "      <td>Ценности</td>\n",
       "      <td>https://lenta.ru/news/2021/10/13/reshetova/</td>\n",
       "      <td>Бывшая девушка рэпера Тимати, фотомодель Анаст...</td>\n",
       "    </tr>\n",
       "    <tr>\n",
       "      <th>97537</th>\n",
       "      <td>Экономика</td>\n",
       "      <td>https://lenta.ru/news/2021/10/13/ecpere/</td>\n",
       "      <td>Страны G7 потребовали обеспечить способность э...</td>\n",
       "    </tr>\n",
       "    <tr>\n",
       "      <th>97538</th>\n",
       "      <td>Путешествия</td>\n",
       "      <td>https://lenta.ru/news/2021/10/13/fedorvpered/</td>\n",
       "      <td>Российский путешественник Федор Конюхов назвал...</td>\n",
       "    </tr>\n",
       "    <tr>\n",
       "      <th>97539</th>\n",
       "      <td>Экономика</td>\n",
       "      <td>https://lenta.ru/news/2021/10/13/index/</td>\n",
       "      <td>Курс евро вырос до 83,41 рубля (плюс 0,53 рубл...</td>\n",
       "    </tr>\n",
       "    <tr>\n",
       "      <th>97540</th>\n",
       "      <td>Экономика</td>\n",
       "      <td>https://lenta.ru/news/2021/10/13/fish/</td>\n",
       "      <td>Страны Евросоюза готовят совместную декларацию...</td>\n",
       "    </tr>\n",
       "  </tbody>\n",
       "</table>\n",
       "<p>292606 rows × 3 columns</p>\n",
       "</div>"
      ],
      "text/plain": [
       "                topic                                                url  \\\n",
       "0                 Мир            https://lenta.ru/news/2024/01/02/early/   \n",
       "1         Бывший СССР           https://lenta.ru/news/2024/01/02/zelen_/   \n",
       "2      Интернет и СМИ  https://lenta.ru/news/2024/01/02/zapretnoe-slo...   \n",
       "3         Бывший СССР          https://lenta.ru/news/2024/01/02/instead/   \n",
       "4         Бывший СССР           https://lenta.ru/news/2024/01/02/zelenn/   \n",
       "...               ...                                                ...   \n",
       "97536        Ценности        https://lenta.ru/news/2021/10/13/reshetova/   \n",
       "97537       Экономика           https://lenta.ru/news/2021/10/13/ecpere/   \n",
       "97538     Путешествия      https://lenta.ru/news/2021/10/13/fedorvpered/   \n",
       "97539       Экономика            https://lenta.ru/news/2021/10/13/index/   \n",
       "97540       Экономика             https://lenta.ru/news/2021/10/13/fish/   \n",
       "\n",
       "                                                    text  \n",
       "0      Президент Венесуэлы Николас Мадуро заявил, что...  \n",
       "1      Президент Украины Владимир Зеленский в интервь...  \n",
       "2      Президент Украины Владимир Зеленский пришел в ...  \n",
       "3      Президент Украины Владимир Зеленский заявил, ч...  \n",
       "4      Президент Украины Владимир Зеленский заявил, ч...  \n",
       "...                                                  ...  \n",
       "97536  Бывшая девушка рэпера Тимати, фотомодель Анаст...  \n",
       "97537  Страны G7 потребовали обеспечить способность э...  \n",
       "97538  Российский путешественник Федор Конюхов назвал...  \n",
       "97539  Курс евро вырос до 83,41 рубля (плюс 0,53 рубл...  \n",
       "97540  Страны Евросоюза готовят совместную декларацию...  \n",
       "\n",
       "[292606 rows x 3 columns]"
      ]
     },
     "execution_count": 26,
     "metadata": {},
     "output_type": "execute_result"
    }
   ],
   "source": [
    "lenta"
   ]
  },
  {
   "cell_type": "code",
   "execution_count": 27,
   "metadata": {},
   "outputs": [],
   "source": [
    "lenta = lenta.drop_duplicates()\n",
    "lenta = lenta.dropna()"
   ]
  },
  {
   "cell_type": "code",
   "execution_count": 28,
   "metadata": {},
   "outputs": [
    {
     "data": {
      "text/plain": [
       "(291652, 3)"
      ]
     },
     "execution_count": 28,
     "metadata": {},
     "output_type": "execute_result"
    }
   ],
   "source": [
    "lenta.shape"
   ]
  },
  {
   "cell_type": "code",
   "execution_count": 29,
   "metadata": {},
   "outputs": [
    {
     "data": {
      "text/plain": [
       "array(['Мир', 'Бывший СССР', 'Интернет и СМИ', 'Культура', 'Россия',\n",
       "       'Экономика', 'Наука и техника', 'Среда обитания', 'Спорт',\n",
       "       'Путешествия', 'Забота о себе', 'Силовые структуры', 'Ценности',\n",
       "       'Из жизни', 'Моя страна', '69-я параллель', 'Бизнес', 'Оружие',\n",
       "       'Нацпроекты', 'Мотор'], dtype=object)"
      ]
     },
     "execution_count": 29,
     "metadata": {},
     "output_type": "execute_result"
    }
   ],
   "source": [
    "lenta['topic'].unique()"
   ]
  },
  {
   "cell_type": "markdown",
   "metadata": {},
   "source": [
    "Избавимся от ненужных колонок в датасете"
   ]
  },
  {
   "cell_type": "code",
   "execution_count": 30,
   "metadata": {},
   "outputs": [],
   "source": [
    "lenta = lenta[~lenta['topic'].isin(['Мир', 'Интернет и СМИ', 'Культура', 'Среда обитания', 'Ценности', \n",
    "                                    'Из жизни', 'Моя страна', '69-я параллель', 'Бизнес', 'Оружие', 'Нацпроекты', 'Мотор'])]"
   ]
  },
  {
   "cell_type": "code",
   "execution_count": 33,
   "metadata": {},
   "outputs": [],
   "source": [
    "lenta = lenta.drop('url', axis=1)"
   ]
  },
  {
   "cell_type": "code",
   "execution_count": 35,
   "metadata": {},
   "outputs": [],
   "source": [
    "lenta = lenta.reset_index(drop=True)"
   ]
  },
  {
   "cell_type": "markdown",
   "metadata": {},
   "source": [
    "Считаем датасет с новостями из fontanka.ru"
   ]
  },
  {
   "cell_type": "code",
   "execution_count": 37,
   "metadata": {},
   "outputs": [],
   "source": [
    "fontanka = pd.read_csv('fontanka_news.csv')"
   ]
  },
  {
   "cell_type": "code",
   "execution_count": 39,
   "metadata": {},
   "outputs": [],
   "source": [
    "fontanka = fontanka.drop(['date', 'title', 'url', 'time', 'comm_num', 'author', 'views'], axis=1)"
   ]
  },
  {
   "cell_type": "code",
   "execution_count": 41,
   "metadata": {},
   "outputs": [],
   "source": [
    "fontanka = fontanka.drop_duplicates()\n",
    "fontanka = fontanka.dropna()\n",
    "fontanka = fontanka.rename(columns={'content': 'text'})"
   ]
  },
  {
   "cell_type": "code",
   "execution_count": 43,
   "metadata": {},
   "outputs": [
    {
     "data": {
      "text/plain": [
       "(117991, 2)"
      ]
     },
     "execution_count": 43,
     "metadata": {},
     "output_type": "execute_result"
    }
   ],
   "source": [
    "fontanka.shape"
   ]
  },
  {
   "cell_type": "code",
   "execution_count": 44,
   "metadata": {},
   "outputs": [
    {
     "data": {
      "text/plain": [
       "array(['Происшествия', 'Авто', 'Общество', 'Доктор Питер', 'Власть',\n",
       "       'Строительство', 'Город', 'Доброе дело', 'Бизнес', 'Афиша Plus',\n",
       "       'topic', 'Образ жизни', 'Работа', 'Спорт', 'Недвижимость',\n",
       "       'Финансы', 'Туризм', 'Политика', 'Технологии', 'ЖКХ',\n",
       "       'Особое мнение', 'Новости компаний', 'Бизнес-трибуна', 'Финляндия',\n",
       "       'Открытое письмо'], dtype=object)"
      ]
     },
     "execution_count": 44,
     "metadata": {},
     "output_type": "execute_result"
    }
   ],
   "source": [
    "fontanka['topic'].unique()"
   ]
  },
  {
   "cell_type": "code",
   "execution_count": 45,
   "metadata": {},
   "outputs": [],
   "source": [
    "fontanka = fontanka[~fontanka['topic'].isin(['Происшествия', 'Авто', 'Доктор Питер', 'Власть', 'Город', 'Доброе дело', \n",
    "                                             'Бизнес', 'Афиша Plus', 'topic', 'Образ жизни', 'Работа', 'Недвижимость', \n",
    "                                             'Финансы', 'Политика', 'ЖКХ', 'Особое мнение', 'Новости компаний', \n",
    "                                             'Бизнес-трибуна', 'Финляндия', 'Открытое письмо'])]"
   ]
  },
  {
   "cell_type": "code",
   "execution_count": 49,
   "metadata": {},
   "outputs": [
    {
     "data": {
      "text/html": [
       "<div>\n",
       "<style scoped>\n",
       "    .dataframe tbody tr th:only-of-type {\n",
       "        vertical-align: middle;\n",
       "    }\n",
       "\n",
       "    .dataframe tbody tr th {\n",
       "        vertical-align: top;\n",
       "    }\n",
       "\n",
       "    .dataframe thead th {\n",
       "        text-align: right;\n",
       "    }\n",
       "</style>\n",
       "<table border=\"1\" class=\"dataframe\">\n",
       "  <thead>\n",
       "    <tr style=\"text-align: right;\">\n",
       "      <th></th>\n",
       "      <th>topic</th>\n",
       "      <th>text</th>\n",
       "    </tr>\n",
       "  </thead>\n",
       "  <tbody>\n",
       "    <tr>\n",
       "      <th>0</th>\n",
       "      <td>Общество</td>\n",
       "      <td>Зампред Совбеза РФ Дмитрий Медведев высказался...</td>\n",
       "    </tr>\n",
       "    <tr>\n",
       "      <th>1</th>\n",
       "      <td>Общество</td>\n",
       "      <td>Фото: Анжела Мнацаканян/ Фонтанка.руПоделиться...</td>\n",
       "    </tr>\n",
       "    <tr>\n",
       "      <th>2</th>\n",
       "      <td>Строительство</td>\n",
       "      <td>19 октября в Setl Group состоялся День донора,...</td>\n",
       "    </tr>\n",
       "    <tr>\n",
       "      <th>3</th>\n",
       "      <td>Общество</td>\n",
       "      <td>Жительница города Бирск в Башкирии нашла в лес...</td>\n",
       "    </tr>\n",
       "    <tr>\n",
       "      <th>4</th>\n",
       "      <td>Общество</td>\n",
       "      <td>В Петербурге женщину похоронили в одной могиле...</td>\n",
       "    </tr>\n",
       "    <tr>\n",
       "      <th>...</th>\n",
       "      <td>...</td>\n",
       "      <td>...</td>\n",
       "    </tr>\n",
       "    <tr>\n",
       "      <th>37697</th>\n",
       "      <td>Спорт</td>\n",
       "      <td>\\tФутбольный клуб «Зенит» 12 декабря прокоммен...</td>\n",
       "    </tr>\n",
       "    <tr>\n",
       "      <th>37698</th>\n",
       "      <td>Общество</td>\n",
       "      <td>\\tРоскомнадзор рассматривает вариант блокировк...</td>\n",
       "    </tr>\n",
       "    <tr>\n",
       "      <th>37699</th>\n",
       "      <td>Общество</td>\n",
       "      <td>\\tЧиновника Ространснадзора уволили в связи с ...</td>\n",
       "    </tr>\n",
       "    <tr>\n",
       "      <th>37700</th>\n",
       "      <td>Спорт</td>\n",
       "      <td>\\tНападающий «Вашингтона» Александр Овечкин в ...</td>\n",
       "    </tr>\n",
       "    <tr>\n",
       "      <th>37701</th>\n",
       "      <td>Общество</td>\n",
       "      <td>\\tРоссийские космонавты Сергей Прокопьев и Оле...</td>\n",
       "    </tr>\n",
       "  </tbody>\n",
       "</table>\n",
       "<p>37702 rows × 2 columns</p>\n",
       "</div>"
      ],
      "text/plain": [
       "               topic                                               text\n",
       "0           Общество  Зампред Совбеза РФ Дмитрий Медведев высказался...\n",
       "1           Общество  Фото: Анжела Мнацаканян/ Фонтанка.руПоделиться...\n",
       "2      Строительство  19 октября в Setl Group состоялся День донора,...\n",
       "3           Общество  Жительница города Бирск в Башкирии нашла в лес...\n",
       "4           Общество  В Петербурге женщину похоронили в одной могиле...\n",
       "...              ...                                                ...\n",
       "37697          Спорт  \\tФутбольный клуб «Зенит» 12 декабря прокоммен...\n",
       "37698       Общество  \\tРоскомнадзор рассматривает вариант блокировк...\n",
       "37699       Общество  \\tЧиновника Ространснадзора уволили в связи с ...\n",
       "37700          Спорт  \\tНападающий «Вашингтона» Александр Овечкин в ...\n",
       "37701       Общество  \\tРоссийские космонавты Сергей Прокопьев и Оле...\n",
       "\n",
       "[37702 rows x 2 columns]"
      ]
     },
     "execution_count": 49,
     "metadata": {},
     "output_type": "execute_result"
    }
   ],
   "source": [
    "fontanka = fontanka.reset_index(drop=True)\n",
    "fontanka"
   ]
  },
  {
   "cell_type": "markdown",
   "metadata": {},
   "source": [
    "Считаем датасет с новостями про строительство из asninfo.ru"
   ]
  },
  {
   "cell_type": "code",
   "execution_count": 50,
   "metadata": {},
   "outputs": [],
   "source": [
    "asn = pd.read_csv('builds.csv')"
   ]
  },
  {
   "cell_type": "code",
   "execution_count": 52,
   "metadata": {},
   "outputs": [],
   "source": [
    "asn.columns = ['topic', 'url', 'text']"
   ]
  },
  {
   "cell_type": "code",
   "execution_count": 54,
   "metadata": {},
   "outputs": [],
   "source": [
    "asn = asn.drop_duplicates()\n",
    "asn = asn.dropna()\n",
    "asn = asn.drop(['url'], axis=1)\n",
    "asn = asn.reset_index(drop=True)"
   ]
  },
  {
   "cell_type": "code",
   "execution_count": 55,
   "metadata": {},
   "outputs": [
    {
     "data": {
      "text/html": [
       "<div>\n",
       "<style scoped>\n",
       "    .dataframe tbody tr th:only-of-type {\n",
       "        vertical-align: middle;\n",
       "    }\n",
       "\n",
       "    .dataframe tbody tr th {\n",
       "        vertical-align: top;\n",
       "    }\n",
       "\n",
       "    .dataframe thead th {\n",
       "        text-align: right;\n",
       "    }\n",
       "</style>\n",
       "<table border=\"1\" class=\"dataframe\">\n",
       "  <thead>\n",
       "    <tr style=\"text-align: right;\">\n",
       "      <th></th>\n",
       "      <th>topic</th>\n",
       "      <th>text</th>\n",
       "    </tr>\n",
       "  </thead>\n",
       "  <tbody>\n",
       "    <tr>\n",
       "      <th>0</th>\n",
       "      <td>Строительство</td>\n",
       "      <td>\\n\\nНа территории жилого массива в границах Сч...</td>\n",
       "    </tr>\n",
       "    <tr>\n",
       "      <th>1</th>\n",
       "      <td>Строительство</td>\n",
       "      <td>\\n\\nЗавершение строительства ЖК «Оранж» продол...</td>\n",
       "    </tr>\n",
       "    <tr>\n",
       "      <th>2</th>\n",
       "      <td>Строительство</td>\n",
       "      <td>\\n\\n\\n\\nблагоустройство\\n\\nНа строящейся Южной...</td>\n",
       "    </tr>\n",
       "    <tr>\n",
       "      <th>3</th>\n",
       "      <td>Строительство</td>\n",
       "      <td>\\n\\nВ ходе производственной практики магистран...</td>\n",
       "    </tr>\n",
       "    <tr>\n",
       "      <th>4</th>\n",
       "      <td>Строительство</td>\n",
       "      <td>\\n\\n\\n\\nблагоустройство\\n\\nДетский сад с бассе...</td>\n",
       "    </tr>\n",
       "    <tr>\n",
       "      <th>...</th>\n",
       "      <td>...</td>\n",
       "      <td>...</td>\n",
       "    </tr>\n",
       "    <tr>\n",
       "      <th>8511</th>\n",
       "      <td>Строительство</td>\n",
       "      <td>\\n\\nВ рамках рабочей поездки в Великие Луки гу...</td>\n",
       "    </tr>\n",
       "    <tr>\n",
       "      <th>8512</th>\n",
       "      <td>Строительство</td>\n",
       "      <td>\\n\\nНа заседании регионального правительства м...</td>\n",
       "    </tr>\n",
       "    <tr>\n",
       "      <th>8513</th>\n",
       "      <td>Строительство</td>\n",
       "      <td>\\n\\nНа территории Новой Москвы в поселке Маруш...</td>\n",
       "    </tr>\n",
       "    <tr>\n",
       "      <th>8514</th>\n",
       "      <td>Строительство</td>\n",
       "      <td>\\n\\nВ приусадебном парке Демидовых в Тайцах Га...</td>\n",
       "    </tr>\n",
       "    <tr>\n",
       "      <th>8515</th>\n",
       "      <td>Строительство</td>\n",
       "      <td>\\n\\nМоскомэкспертиза сообщает о согласовании п...</td>\n",
       "    </tr>\n",
       "  </tbody>\n",
       "</table>\n",
       "<p>8516 rows × 2 columns</p>\n",
       "</div>"
      ],
      "text/plain": [
       "              topic                                               text\n",
       "0     Строительство  \\n\\nНа территории жилого массива в границах Сч...\n",
       "1     Строительство  \\n\\nЗавершение строительства ЖК «Оранж» продол...\n",
       "2     Строительство  \\n\\n\\n\\nблагоустройство\\n\\nНа строящейся Южной...\n",
       "3     Строительство  \\n\\nВ ходе производственной практики магистран...\n",
       "4     Строительство  \\n\\n\\n\\nблагоустройство\\n\\nДетский сад с бассе...\n",
       "...             ...                                                ...\n",
       "8511  Строительство  \\n\\nВ рамках рабочей поездки в Великие Луки гу...\n",
       "8512  Строительство  \\n\\nНа заседании регионального правительства м...\n",
       "8513  Строительство  \\n\\nНа территории Новой Москвы в поселке Маруш...\n",
       "8514  Строительство  \\n\\nВ приусадебном парке Демидовых в Тайцах Га...\n",
       "8515  Строительство  \\n\\nМоскомэкспертиза сообщает о согласовании п...\n",
       "\n",
       "[8516 rows x 2 columns]"
      ]
     },
     "execution_count": 55,
     "metadata": {},
     "output_type": "execute_result"
    }
   ],
   "source": [
    "asn"
   ]
  },
  {
   "cell_type": "code",
   "execution_count": 56,
   "metadata": {},
   "outputs": [],
   "source": [
    "news = pd.concat([lenta, fontanka, asn])\n",
    "news = news.reset_index(drop=True)"
   ]
  },
  {
   "cell_type": "code",
   "execution_count": 58,
   "metadata": {},
   "outputs": [
    {
     "data": {
      "text/plain": [
       "array(['Бывший СССР', 'Россия', 'Экономика', 'Наука и техника', 'Спорт',\n",
       "       'Путешествия', 'Забота о себе', 'Силовые структуры', 'Общество',\n",
       "       'Строительство', 'Туризм', 'Технологии'], dtype=object)"
      ]
     },
     "execution_count": 58,
     "metadata": {},
     "output_type": "execute_result"
    }
   ],
   "source": [
    "news['topic'].unique()"
   ]
  },
  {
   "cell_type": "code",
   "execution_count": 59,
   "metadata": {},
   "outputs": [],
   "source": [
    "news['topic'] = news['topic'].replace({'Бывший СССР': '3', \n",
    "                                       'Россия':'0', \n",
    "                                       'Экономика':'1', \n",
    "                                       'Наука и техника':'8', \n",
    "                                       'Спорт':'4',\n",
    "                                       'Путешествия':'7', \n",
    "                                       'Забота о себе':'5', \n",
    "                                       'Силовые структуры':'2', \n",
    "                                       'Общество':'0',\n",
    "                                       'Строительство':'6', \n",
    "                                       'Туризм':'7', \n",
    "                                       'Технологии':'8'\n",
    "                                       })"
   ]
  },
  {
   "cell_type": "code",
   "execution_count": 60,
   "metadata": {},
   "outputs": [
    {
     "data": {
      "text/html": [
       "<div>\n",
       "<style scoped>\n",
       "    .dataframe tbody tr th:only-of-type {\n",
       "        vertical-align: middle;\n",
       "    }\n",
       "\n",
       "    .dataframe tbody tr th {\n",
       "        vertical-align: top;\n",
       "    }\n",
       "\n",
       "    .dataframe thead th {\n",
       "        text-align: right;\n",
       "    }\n",
       "</style>\n",
       "<table border=\"1\" class=\"dataframe\">\n",
       "  <thead>\n",
       "    <tr style=\"text-align: right;\">\n",
       "      <th></th>\n",
       "      <th>topic</th>\n",
       "      <th>text</th>\n",
       "    </tr>\n",
       "  </thead>\n",
       "  <tbody>\n",
       "    <tr>\n",
       "      <th>0</th>\n",
       "      <td>3</td>\n",
       "      <td>Президент Украины Владимир Зеленский в интервь...</td>\n",
       "    </tr>\n",
       "    <tr>\n",
       "      <th>1</th>\n",
       "      <td>3</td>\n",
       "      <td>Президент Украины Владимир Зеленский заявил, ч...</td>\n",
       "    </tr>\n",
       "    <tr>\n",
       "      <th>2</th>\n",
       "      <td>3</td>\n",
       "      <td>Президент Украины Владимир Зеленский заявил, ч...</td>\n",
       "    </tr>\n",
       "    <tr>\n",
       "      <th>3</th>\n",
       "      <td>3</td>\n",
       "      <td>Полковник Службы безопасности Украины (СБУ) в ...</td>\n",
       "    </tr>\n",
       "    <tr>\n",
       "      <th>4</th>\n",
       "      <td>3</td>\n",
       "      <td>Украинский президент Владимир Зеленский попрос...</td>\n",
       "    </tr>\n",
       "    <tr>\n",
       "      <th>...</th>\n",
       "      <td>...</td>\n",
       "      <td>...</td>\n",
       "    </tr>\n",
       "    <tr>\n",
       "      <th>230836</th>\n",
       "      <td>6</td>\n",
       "      <td>\\n\\nВ рамках рабочей поездки в Великие Луки гу...</td>\n",
       "    </tr>\n",
       "    <tr>\n",
       "      <th>230837</th>\n",
       "      <td>6</td>\n",
       "      <td>\\n\\nНа заседании регионального правительства м...</td>\n",
       "    </tr>\n",
       "    <tr>\n",
       "      <th>230838</th>\n",
       "      <td>6</td>\n",
       "      <td>\\n\\nНа территории Новой Москвы в поселке Маруш...</td>\n",
       "    </tr>\n",
       "    <tr>\n",
       "      <th>230839</th>\n",
       "      <td>6</td>\n",
       "      <td>\\n\\nВ приусадебном парке Демидовых в Тайцах Га...</td>\n",
       "    </tr>\n",
       "    <tr>\n",
       "      <th>230840</th>\n",
       "      <td>6</td>\n",
       "      <td>\\n\\nМоскомэкспертиза сообщает о согласовании п...</td>\n",
       "    </tr>\n",
       "  </tbody>\n",
       "</table>\n",
       "<p>230841 rows × 2 columns</p>\n",
       "</div>"
      ],
      "text/plain": [
       "       topic                                               text\n",
       "0          3  Президент Украины Владимир Зеленский в интервь...\n",
       "1          3  Президент Украины Владимир Зеленский заявил, ч...\n",
       "2          3  Президент Украины Владимир Зеленский заявил, ч...\n",
       "3          3  Полковник Службы безопасности Украины (СБУ) в ...\n",
       "4          3  Украинский президент Владимир Зеленский попрос...\n",
       "...      ...                                                ...\n",
       "230836     6  \\n\\nВ рамках рабочей поездки в Великие Луки гу...\n",
       "230837     6  \\n\\nНа заседании регионального правительства м...\n",
       "230838     6  \\n\\nНа территории Новой Москвы в поселке Маруш...\n",
       "230839     6  \\n\\nВ приусадебном парке Демидовых в Тайцах Га...\n",
       "230840     6  \\n\\nМоскомэкспертиза сообщает о согласовании п...\n",
       "\n",
       "[230841 rows x 2 columns]"
      ]
     },
     "execution_count": 60,
     "metadata": {},
     "output_type": "execute_result"
    }
   ],
   "source": [
    "news"
   ]
  },
  {
   "cell_type": "markdown",
   "metadata": {},
   "source": [
    "Перемешаем все новости внутри датасета"
   ]
  },
  {
   "cell_type": "code",
   "execution_count": 61,
   "metadata": {},
   "outputs": [
    {
     "data": {
      "text/html": [
       "<div>\n",
       "<style scoped>\n",
       "    .dataframe tbody tr th:only-of-type {\n",
       "        vertical-align: middle;\n",
       "    }\n",
       "\n",
       "    .dataframe tbody tr th {\n",
       "        vertical-align: top;\n",
       "    }\n",
       "\n",
       "    .dataframe thead th {\n",
       "        text-align: right;\n",
       "    }\n",
       "</style>\n",
       "<table border=\"1\" class=\"dataframe\">\n",
       "  <thead>\n",
       "    <tr style=\"text-align: right;\">\n",
       "      <th></th>\n",
       "      <th>topic</th>\n",
       "      <th>text</th>\n",
       "    </tr>\n",
       "  </thead>\n",
       "  <tbody>\n",
       "    <tr>\n",
       "      <th>0</th>\n",
       "      <td>0</td>\n",
       "      <td>Транспортировку газа по трубопроводу «Сила Сиб...</td>\n",
       "    </tr>\n",
       "    <tr>\n",
       "      <th>1</th>\n",
       "      <td>2</td>\n",
       "      <td>Глава Следственного комитета России (СКР) Алек...</td>\n",
       "    </tr>\n",
       "    <tr>\n",
       "      <th>2</th>\n",
       "      <td>0</td>\n",
       "      <td>В Красноярске в ковидном госпитале произошел п...</td>\n",
       "    </tr>\n",
       "    <tr>\n",
       "      <th>3</th>\n",
       "      <td>4</td>\n",
       "      <td>\\tОткрытие центра выдачи паспортов болельщиков...</td>\n",
       "    </tr>\n",
       "    <tr>\n",
       "      <th>4</th>\n",
       "      <td>0</td>\n",
       "      <td>Российским военным удалось уничтожить десант В...</td>\n",
       "    </tr>\n",
       "    <tr>\n",
       "      <th>...</th>\n",
       "      <td>...</td>\n",
       "      <td>...</td>\n",
       "    </tr>\n",
       "    <tr>\n",
       "      <th>230836</th>\n",
       "      <td>5</td>\n",
       "      <td>Кандидат медицинских наук и спортивный врач Ал...</td>\n",
       "    </tr>\n",
       "    <tr>\n",
       "      <th>230837</th>\n",
       "      <td>0</td>\n",
       "      <td>Телеведущий Иван Ургант опубликовал в Instagra...</td>\n",
       "    </tr>\n",
       "    <tr>\n",
       "      <th>230838</th>\n",
       "      <td>0</td>\n",
       "      <td>Часть подразделений Вооруженных сил России, в ...</td>\n",
       "    </tr>\n",
       "    <tr>\n",
       "      <th>230839</th>\n",
       "      <td>6</td>\n",
       "      <td>\\n\\nГород выставит на торги по аренде земельны...</td>\n",
       "    </tr>\n",
       "    <tr>\n",
       "      <th>230840</th>\n",
       "      <td>1</td>\n",
       "      <td>Первую строчку в рейтинге Forbes самых богатых...</td>\n",
       "    </tr>\n",
       "  </tbody>\n",
       "</table>\n",
       "<p>230841 rows × 2 columns</p>\n",
       "</div>"
      ],
      "text/plain": [
       "       topic                                               text\n",
       "0          0  Транспортировку газа по трубопроводу «Сила Сиб...\n",
       "1          2  Глава Следственного комитета России (СКР) Алек...\n",
       "2          0  В Красноярске в ковидном госпитале произошел п...\n",
       "3          4  \\tОткрытие центра выдачи паспортов болельщиков...\n",
       "4          0  Российским военным удалось уничтожить десант В...\n",
       "...      ...                                                ...\n",
       "230836     5  Кандидат медицинских наук и спортивный врач Ал...\n",
       "230837     0  Телеведущий Иван Ургант опубликовал в Instagra...\n",
       "230838     0  Часть подразделений Вооруженных сил России, в ...\n",
       "230839     6  \\n\\nГород выставит на торги по аренде земельны...\n",
       "230840     1  Первую строчку в рейтинге Forbes самых богатых...\n",
       "\n",
       "[230841 rows x 2 columns]"
      ]
     },
     "execution_count": 61,
     "metadata": {},
     "output_type": "execute_result"
    }
   ],
   "source": [
    "news = news.sample(frac=1).reset_index(drop=True)\n",
    "news\n"
   ]
  },
  {
   "cell_type": "markdown",
   "metadata": {},
   "source": [
    "Сохраним датасет"
   ]
  },
  {
   "cell_type": "code",
   "execution_count": 62,
   "metadata": {},
   "outputs": [],
   "source": [
    "news.to_csv('news_unbalanced.csv', index=False)"
   ]
  },
  {
   "cell_type": "markdown",
   "metadata": {},
   "source": [
    "## Классы"
   ]
  },
  {
   "cell_type": "markdown",
   "metadata": {},
   "source": [
    "Разметка классов была приведена к следующей:\n",
    "\n",
    "- 'Общество/Россия' : 0\n",
    "- 'Экономика' : 1\n",
    "- 'Силовые структуры' : 2\n",
    "- 'Бывший СССР' : 3\n",
    "- 'Спорт' : 4\n",
    "- 'Забота о себе' : 5\n",
    "- 'Строительство' : 6\n",
    "- 'Туризм/Путешествия' : 7\n",
    "- 'Наука и техника' : 8"
   ]
  },
  {
   "cell_type": "code",
   "execution_count": 63,
   "metadata": {},
   "outputs": [],
   "source": [
    "df_u = pd.read_csv('news_unbalanced.csv')"
   ]
  },
  {
   "cell_type": "code",
   "execution_count": 64,
   "metadata": {},
   "outputs": [
    {
     "data": {
      "text/plain": [
       "0    86662\n",
       "3    33008\n",
       "1    29364\n",
       "4    19641\n",
       "2    18046\n",
       "8    15186\n",
       "7    11291\n",
       "6    11253\n",
       "5     6390\n",
       "Name: topic, dtype: int64"
      ]
     },
     "execution_count": 64,
     "metadata": {},
     "output_type": "execute_result"
    }
   ],
   "source": [
    "df_u['topic'].value_counts()"
   ]
  },
  {
   "cell_type": "markdown",
   "metadata": {},
   "source": [
    "Создадим еще один датасет, но уже со сбалансированными классами.\n",
    "Балансировку проведем при помощи удаления данных."
   ]
  },
  {
   "cell_type": "code",
   "execution_count": 65,
   "metadata": {},
   "outputs": [],
   "source": [
    "df = df_u.copy()\n",
    "\n",
    "rows_to_remove = df.loc[df['topic'] == 0].sample(n=80272)\n",
    "df = df.drop(rows_to_remove.index)\n",
    "\n",
    "rows_to_remove = df.loc[df['topic'] == 3].sample(n=26618)\n",
    "df = df.drop(rows_to_remove.index)\n",
    "\n",
    "rows_to_remove = df.loc[df['topic'] == 1].sample(n=22974)\n",
    "df = df.drop(rows_to_remove.index)\n",
    "\n",
    "rows_to_remove = df.loc[df['topic'] == 4].sample(n=13251)\n",
    "df = df.drop(rows_to_remove.index)\n",
    "\n",
    "rows_to_remove = df.loc[df['topic'] == 2].sample(n=11656)\n",
    "df = df.drop(rows_to_remove.index)\n",
    "\n",
    "rows_to_remove = df.loc[df['topic'] == 8].sample(n=8796)\n",
    "df = df.drop(rows_to_remove.index)\n",
    "\n",
    "rows_to_remove = df.loc[df['topic'] == 7].sample(n=4901)\n",
    "df = df.drop(rows_to_remove.index)\n",
    "\n",
    "rows_to_remove = df.loc[df['topic'] == 6].sample(n=4863)\n",
    "df = df.drop(rows_to_remove.index)"
   ]
  },
  {
   "cell_type": "code",
   "execution_count": 66,
   "metadata": {},
   "outputs": [
    {
     "data": {
      "text/plain": [
       "4    6390\n",
       "3    6390\n",
       "7    6390\n",
       "2    6390\n",
       "1    6390\n",
       "0    6390\n",
       "6    6390\n",
       "8    6390\n",
       "5    6390\n",
       "Name: topic, dtype: int64"
      ]
     },
     "execution_count": 66,
     "metadata": {},
     "output_type": "execute_result"
    }
   ],
   "source": [
    "df['topic'].value_counts()"
   ]
  },
  {
   "cell_type": "code",
   "execution_count": 67,
   "metadata": {},
   "outputs": [],
   "source": [
    "df.to_csv('news_balanced.csv', index=False)"
   ]
  },
  {
   "cell_type": "markdown",
   "metadata": {},
   "source": [
    "## Baseline решение (BoW + LogReg)"
   ]
  },
  {
   "cell_type": "markdown",
   "metadata": {},
   "source": [
    "### Для сбалансированных данных"
   ]
  },
  {
   "cell_type": "code",
   "execution_count": 3,
   "metadata": {},
   "outputs": [
    {
     "ename": "NameError",
     "evalue": "name 'df' is not defined",
     "output_type": "error",
     "traceback": [
      "\u001b[1;31m---------------------------------------------------------------------------\u001b[0m",
      "\u001b[1;31mNameError\u001b[0m                                 Traceback (most recent call last)",
      "Cell \u001b[1;32mIn[3], line 1\u001b[0m\n\u001b[1;32m----> 1\u001b[0m X \u001b[38;5;241m=\u001b[39m \u001b[43mdf\u001b[49m[[\u001b[38;5;124m'\u001b[39m\u001b[38;5;124mtext\u001b[39m\u001b[38;5;124m'\u001b[39m]]\n\u001b[0;32m      2\u001b[0m y \u001b[38;5;241m=\u001b[39m df[\u001b[38;5;124m'\u001b[39m\u001b[38;5;124mtopic\u001b[39m\u001b[38;5;124m'\u001b[39m]\n\u001b[0;32m      3\u001b[0m X_train, X_test, y_train, y_test \u001b[38;5;241m=\u001b[39m train_test_split(X, y, test_size\u001b[38;5;241m=\u001b[39m\u001b[38;5;241m0.25\u001b[39m, random_state\u001b[38;5;241m=\u001b[39m\u001b[38;5;241m42\u001b[39m)\n",
      "\u001b[1;31mNameError\u001b[0m: name 'df' is not defined"
     ]
    }
   ],
   "source": [
    "X = df[['text']]\n",
    "y = df['topic']\n",
    "X_train, X_test, y_train, y_test = train_test_split(X, y, test_size=0.25, random_state=42)"
   ]
  },
  {
   "cell_type": "code",
   "execution_count": 71,
   "metadata": {},
   "outputs": [
    {
     "name": "stdout",
     "output_type": "stream",
     "text": [
      "(43132, 289278)\n",
      "              precision    recall  f1-score   support\n",
      "\n",
      "           0       0.77      0.73      0.75      1647\n",
      "           1       0.90      0.92      0.91      1581\n",
      "           2       0.91      0.95      0.93      1591\n",
      "           3       0.88      0.92      0.90      1611\n",
      "           4       0.98      0.97      0.98      1587\n",
      "           5       0.97      0.98      0.97      1572\n",
      "           6       0.97      0.98      0.97      1572\n",
      "           7       0.96      0.94      0.95      1645\n",
      "           8       0.95      0.92      0.93      1572\n",
      "\n",
      "    accuracy                           0.92     14378\n",
      "   macro avg       0.92      0.92      0.92     14378\n",
      "weighted avg       0.92      0.92      0.92     14378\n",
      "\n"
     ]
    }
   ],
   "source": [
    "vec = CountVectorizer()\n",
    "vec.fit(X_train['text'])\n",
    "\n",
    "bow = vec.transform(X_train['text'])  # bow — bag of words (мешок слов)\n",
    "bow_test = vec.transform(X_test['text'])\n",
    "\n",
    "print(bow.shape)\n",
    "\n",
    "scaler = MaxAbsScaler()\n",
    "bow = scaler.fit_transform(bow)\n",
    "bow_test = scaler.transform(bow_test)\n",
    "\n",
    "clf = LogisticRegression(max_iter=200, random_state=42)\n",
    "clf.fit(bow, y_train)\n",
    "pred = clf.predict(bow_test)\n",
    "\n",
    "print(classification_report(y_test, pred))"
   ]
  },
  {
   "cell_type": "code",
   "execution_count": 72,
   "metadata": {},
   "outputs": [],
   "source": [
    "Test = pd.read_csv(\"fromkaggle/test_news.csv\")"
   ]
  },
  {
   "cell_type": "code",
   "execution_count": 75,
   "metadata": {},
   "outputs": [],
   "source": [
    "vec = CountVectorizer()\n",
    "vec.fit(X['text'])\n",
    "\n",
    "bow = vec.transform(X['text'])  # bow — bag of words (мешок слов)\n",
    "bow_test = vec.transform(Test['content'])\n",
    "\n",
    "scaler = MaxAbsScaler()\n",
    "bow = scaler.fit_transform(bow)\n",
    "bow_test = scaler.transform(bow_test)\n",
    "\n",
    "clf = LogisticRegression(max_iter=200, random_state=42)\n",
    "clf.fit(bow, y)\n",
    "pred = clf.predict(bow_test)"
   ]
  },
  {
   "cell_type": "code",
   "execution_count": 77,
   "metadata": {},
   "outputs": [],
   "source": [
    "subm = pd.read_csv(\"fromkaggle/base_submission_news.csv\")"
   ]
  },
  {
   "cell_type": "code",
   "execution_count": 79,
   "metadata": {},
   "outputs": [],
   "source": [
    "subm['topic'] = pred\n",
    "\n",
    "subm.to_csv(\"submissions/my_baseline_submission_0.csv\", index=False)"
   ]
  },
  {
   "cell_type": "markdown",
   "metadata": {},
   "source": [
    "### Для несбалансированных данных"
   ]
  },
  {
   "cell_type": "code",
   "execution_count": 46,
   "metadata": {},
   "outputs": [],
   "source": [
    "X = df_u[['text']]\n",
    "y = df_u['topic']\n",
    "X_train, X_test, y_train, y_test = train_test_split(X, y, test_size=0.25, random_state=42)"
   ]
  },
  {
   "cell_type": "code",
   "execution_count": 83,
   "metadata": {},
   "outputs": [
    {
     "name": "stdout",
     "output_type": "stream",
     "text": [
      "(173130, 525287)\n",
      "              precision    recall  f1-score   support\n",
      "\n",
      "           0       0.87      0.90      0.89     21623\n",
      "           1       0.91      0.90      0.90      7358\n",
      "           2       0.91      0.88      0.90      4541\n",
      "           3       0.88      0.89      0.88      8198\n",
      "           4       0.98      0.97      0.97      4885\n",
      "           5       0.94      0.92      0.93      1585\n",
      "           6       0.96      0.93      0.94      2842\n",
      "           7       0.94      0.88      0.91      2858\n",
      "           8       0.93      0.87      0.90      3821\n",
      "\n",
      "    accuracy                           0.90     57711\n",
      "   macro avg       0.92      0.90      0.91     57711\n",
      "weighted avg       0.90      0.90      0.90     57711\n",
      "\n"
     ]
    }
   ],
   "source": [
    "vec = CountVectorizer()\n",
    "vec.fit(X_train['text'])\n",
    "\n",
    "bow = vec.transform(X_train['text'])  # bow — bag of words (мешок слов)\n",
    "bow_test = vec.transform(X_test['text'])\n",
    "\n",
    "print(bow.shape)\n",
    "\n",
    "scaler = MaxAbsScaler()\n",
    "bow = scaler.fit_transform(bow)\n",
    "bow_test = scaler.transform(bow_test)\n",
    "\n",
    "clf = LogisticRegression(max_iter=500, random_state=42)\n",
    "clf.fit(bow, y_train)\n",
    "pred = clf.predict(bow_test)\n",
    "\n",
    "print(classification_report(y_test, pred))"
   ]
  },
  {
   "cell_type": "code",
   "execution_count": 86,
   "metadata": {},
   "outputs": [],
   "source": [
    "Test = pd.read_csv(\"fromkaggle/test_news.csv\")"
   ]
  },
  {
   "cell_type": "code",
   "execution_count": 87,
   "metadata": {},
   "outputs": [],
   "source": [
    "vec = CountVectorizer()\n",
    "vec.fit(X['text'])\n",
    "\n",
    "bow = vec.transform(X['text'])  # bow — bag of words (мешок слов)\n",
    "bow_test = vec.transform(Test['content'])\n",
    "\n",
    "scaler = MaxAbsScaler()\n",
    "bow = scaler.fit_transform(bow)\n",
    "bow_test = scaler.transform(bow_test)\n",
    "\n",
    "clf = LogisticRegression(max_iter=500, random_state=42)\n",
    "clf.fit(bow, y)\n",
    "pred = clf.predict(bow_test)"
   ]
  },
  {
   "cell_type": "code",
   "execution_count": 88,
   "metadata": {},
   "outputs": [],
   "source": [
    "subm['topic'] = pred\n",
    "\n",
    "subm.to_csv(\"submissions/my_baseline_submission_1.csv\", index=False)"
   ]
  },
  {
   "cell_type": "code",
   "execution_count": 89,
   "metadata": {},
   "outputs": [
    {
     "data": {
      "text/plain": [
       "(230841, 2)"
      ]
     },
     "execution_count": 89,
     "metadata": {},
     "output_type": "execute_result"
    }
   ],
   "source": [
    "df_u.shape"
   ]
  },
  {
   "cell_type": "markdown",
   "metadata": {},
   "source": [
    "## Решение 2. (Tfidf + LogReg)"
   ]
  },
  {
   "cell_type": "code",
   "execution_count": 92,
   "metadata": {},
   "outputs": [
    {
     "name": "stdout",
     "output_type": "stream",
     "text": [
      "              precision    recall  f1-score   support\n",
      "\n",
      "           0       0.89      0.91      0.90     21623\n",
      "           1       0.91      0.92      0.92      7358\n",
      "           2       0.93      0.90      0.91      4541\n",
      "           3       0.89      0.89      0.89      8198\n",
      "           4       0.98      0.97      0.98      4885\n",
      "           5       0.94      0.94      0.94      1585\n",
      "           6       0.96      0.96      0.96      2842\n",
      "           7       0.94      0.89      0.92      2858\n",
      "           8       0.92      0.88      0.90      3821\n",
      "\n",
      "    accuracy                           0.91     57711\n",
      "   macro avg       0.93      0.92      0.92     57711\n",
      "weighted avg       0.91      0.91      0.91     57711\n",
      "\n"
     ]
    }
   ],
   "source": [
    "vec = TfidfVectorizer(ngram_range=(1, 1))\n",
    "vec_train = vec.fit_transform(X_train['text'])\n",
    "vec_test = vec.transform(X_test['text'])\n",
    "\n",
    "scaler = MaxAbsScaler()\n",
    "vec_train = scaler.fit_transform(vec_train)\n",
    "vec_test = scaler.transform(vec_test)\n",
    "\n",
    "clf = LogisticRegression(max_iter=500, random_state=42)\n",
    "clf.fit(vec_train, y_train)\n",
    "pred_tfidf = clf.predict(vec_test)\n",
    "print(classification_report(y_test, pred_tfidf))"
   ]
  },
  {
   "cell_type": "code",
   "execution_count": 93,
   "metadata": {},
   "outputs": [],
   "source": [
    "Test = pd.read_csv(\"fromkaggle/test_news.csv\")"
   ]
  },
  {
   "cell_type": "code",
   "execution_count": 95,
   "metadata": {},
   "outputs": [],
   "source": [
    "vec = TfidfVectorizer(ngram_range=(1, 1))\n",
    "vec.fit(X['text'])\n",
    "\n",
    "vec_train = vec.fit_transform(X['text'])\n",
    "vec_test = vec.transform(Test['content'])\n",
    "\n",
    "scaler = MaxAbsScaler()\n",
    "vec_train = scaler.fit_transform(vec_train)\n",
    "vec_test = scaler.transform(vec_test)\n",
    "\n",
    "clf = LogisticRegression(max_iter=500, random_state=42)\n",
    "clf.fit(vec_train, y)\n",
    "pred = clf.predict(vec_test)"
   ]
  },
  {
   "cell_type": "code",
   "execution_count": null,
   "metadata": {},
   "outputs": [],
   "source": [
    "subm = pd.read_csv(\"fromkaggle/base_submission_news.csv\")"
   ]
  },
  {
   "cell_type": "code",
   "execution_count": null,
   "metadata": {},
   "outputs": [],
   "source": [
    "subm['topic'] = pred\n",
    "\n",
    "subm.to_csv(\"submissions/my_baseline_submission_2.csv\", index=False)"
   ]
  }
 ],
 "metadata": {
  "kernelspec": {
   "display_name": "Python 3",
   "language": "python",
   "name": "python3"
  },
  "language_info": {
   "codemirror_mode": {
    "name": "ipython",
    "version": 3
   },
   "file_extension": ".py",
   "mimetype": "text/x-python",
   "name": "python",
   "nbconvert_exporter": "python",
   "pygments_lexer": "ipython3",
   "version": "3.10.8"
  }
 },
 "nbformat": 4,
 "nbformat_minor": 2
}
